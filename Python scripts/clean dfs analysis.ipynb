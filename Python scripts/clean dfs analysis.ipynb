{
 "cells": [
  {
   "cell_type": "code",
   "execution_count": null,
   "id": "56144bf6",
   "metadata": {},
   "outputs": [],
   "source": [
    "import pandas as pd\n",
    "import os\n",
    "from tqdm import tqdm"
   ]
  },
  {
   "cell_type": "code",
   "execution_count": null,
   "id": "8fccc6d5",
   "metadata": {},
   "outputs": [],
   "source": [
    "def read_csv(folder_idx,file_idx):\n",
    "    folder_='clean_csv_folders/'\n",
    "    #get folders\n",
    "    in_folders_=[x for x in os.listdir(folder_)]\n",
    "    in_folders_\n",
    "    print('#FOLDERS:\\n'+ '\\n-'.join(in_folders_)+'\\n____________')\n",
    "    #get files of folders\n",
    "    in_files_=sorted([x for x in os.listdir(folder_+in_folders_[folder_idx])], key=lambda x:int(x.replace('CLEAN§_','').split('-')[0]))\n",
    "    in_files_\n",
    "    print('#FILES:\\n'+'\\n-'.join(in_files_)+'\\n_____________')\n",
    "    #read file\n",
    "    df=pd.read_csv(folder_+in_folders_[folder_idx]+'/'+in_files_[file_idx])\n",
    "    print('FOLDER: '+in_folders_[folder_idx]+' - FILE: '+in_files_[file_idx])\n",
    "    return df, [in_folders_[folder_idx], in_files_[file_idx].replace('.csv','')]\n",
    "df,folder_index=read_csv(0,0)\n",
    "df2,folder_index2=read_csv(1,0)\n",
    "df3,folder_index2=read_csv(2,0)\n"
   ]
  },
  {
   "cell_type": "code",
   "execution_count": null,
   "id": "11767e7e",
   "metadata": {},
   "outputs": [],
   "source": [
    "def compare_rows(chapter,row,df_l):\n",
    "    print('#Chapter ',chapter)\n",
    "    for i,df_ in enumerate(df_l):\n",
    "        print(f'Df n°{i+1} -', df_[df_['Chapter']==str(chapter)].iloc[row-1,-1])\n",
    "    print('______________________________')\n",
    "compare_rows(1,1,[df,df2,df3])"
   ]
  },
  {
   "cell_type": "code",
   "execution_count": null,
   "id": "20598dee",
   "metadata": {},
   "outputs": [],
   "source": [
    "for i in range(5):\n",
    "    compare_rows(1,i+1,[df,df2,df3])"
   ]
  },
  {
   "cell_type": "code",
   "execution_count": null,
   "id": "1a0349b8",
   "metadata": {},
   "outputs": [],
   "source": []
  },
  {
   "cell_type": "code",
   "execution_count": null,
   "id": "5724938a",
   "metadata": {},
   "outputs": [],
   "source": []
  }
 ],
 "metadata": {
  "kernelspec": {
   "display_name": "Python 3 (ipykernel)",
   "language": "python",
   "name": "python3"
  },
  "language_info": {
   "codemirror_mode": {
    "name": "ipython",
    "version": 3
   },
   "file_extension": ".py",
   "mimetype": "text/x-python",
   "name": "python",
   "nbconvert_exporter": "python",
   "pygments_lexer": "ipython3",
   "version": "3.9.7"
  }
 },
 "nbformat": 4,
 "nbformat_minor": 5
}
