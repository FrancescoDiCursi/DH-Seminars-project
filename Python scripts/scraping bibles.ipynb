{
 "cells": [
  {
   "cell_type": "code",
   "execution_count": 72,
   "id": "32b57a96",
   "metadata": {},
   "outputs": [],
   "source": [
    "from selenium import webdriver\n",
    "from selenium.webdriver.common.by import By\n",
    "from selenium.webdriver.common.keys import Keys\n",
    "from selenium.webdriver.common.action_chains import ActionChains\n",
    "\n",
    "import time\n",
    "\n",
    "import pyautogui as pya"
   ]
  },
  {
   "cell_type": "code",
   "execution_count": 148,
   "id": "b0e91971",
   "metadata": {},
   "outputs": [],
   "source": [
    "opts=webdriver.ChromeOptions()\n",
    "opts.add_argument('--incognito')\n",
    "driver=webdriver.Chrome(options=opts)\n",
    "site='https://ebible.org/pdf/'\n",
    "driver.get(site)"
   ]
  },
  {
   "cell_type": "code",
   "execution_count": 149,
   "id": "0a326074",
   "metadata": {},
   "outputs": [],
   "source": [
    "target_rows=[x for x in driver.find_element(By.TAG_NAME,'table').find_elements(By.TAG_NAME,'tr') if 'English' in x.find_elements(By.TAG_NAME,'td')[0].text]"
   ]
  },
  {
   "cell_type": "code",
   "execution_count": 150,
   "id": "cd49c89c",
   "metadata": {},
   "outputs": [],
   "source": [
    "target_rows=[x.find_elements(By.TAG_NAME,'td') for x in target_rows if x.text.split(' ')[0]=='English']"
   ]
  },
  {
   "cell_type": "code",
   "execution_count": 181,
   "id": "0141ba49",
   "metadata": {},
   "outputs": [],
   "source": [
    "for i,each in enumerate(target_rows):\n",
    "    driver.switch_to.window(driver.window_handles[0])\n",
    "    target_rows[i][-2].find_element(By.TAG_NAME,'a').click()\n",
    "    time.sleep(2)\n",
    "    driver.switch_to.window(driver.window_handles[-1])\n",
    "    time.sleep(1)\n",
    "    name=driver.find_elements(By.TAG_NAME,'h1')[0].text\n",
    "    dialect=[x.text.split(':')[1].strip() for x in driver.find_elements(By.TAG_NAME,'table')[1].find_elements(By.TAG_NAME,'tr') if 'Dialect:' in x.text]\n",
    "    if dialect==[]:\n",
    "        dialect=''\n",
    "    else:\n",
    "        dialect=dialect[0]\n",
    "    try:\n",
    "        driver.find_element(By.XPATH,'//*[contains(text(),\"PDF file list\")]').click()\n",
    "    except:\n",
    "        driver.close()\n",
    "        time.sleep(2)\n",
    "        continue\n",
    "    driver.switch_to.window(driver.window_handles[-1])\n",
    "    time.sleep(2)\n",
    "    driver.find_elements(By.TAG_NAME,'li')[0].find_element(By.TAG_NAME,'a').click()\n",
    "    time.sleep(5)\n",
    "    pya.moveTo(pya.locateOnScreen('pdf download.png',.8))\n",
    "    pya.click()\n",
    "    time.sleep(3)\n",
    "    pya.moveTo(pya.locateOnScreen('input save.png',.8))\n",
    "    pya.moveRel(50,0)\n",
    "    pya.click()\n",
    "    pya.keyDown('ctrl')\n",
    "    pya.keyDown('a')\n",
    "    pya.keyUp('ctrl')\n",
    "    pya.keyUp('a')\n",
    "    pya.press('canc')\n",
    "    fullname=f'{name}__{dialect}'\n",
    "    pya.write(fullname,0.01)\n",
    "    time.sleep(1)\n",
    "    pya.press('enter')\n",
    "    driver.close()\n",
    "    time.sleep(1)\n",
    "    driver.switch_to.window(driver.window_handles[-1])\n",
    "    driver.close()\n",
    "    time.sleep(2)"
   ]
  },
  {
   "cell_type": "code",
   "execution_count": null,
   "id": "2e99624a",
   "metadata": {},
   "outputs": [],
   "source": []
  }
 ],
 "metadata": {
  "kernelspec": {
   "display_name": "Python 3 (ipykernel)",
   "language": "python",
   "name": "python3"
  },
  "language_info": {
   "codemirror_mode": {
    "name": "ipython",
    "version": 3
   },
   "file_extension": ".py",
   "mimetype": "text/x-python",
   "name": "python",
   "nbconvert_exporter": "python",
   "pygments_lexer": "ipython3",
   "version": "3.9.7"
  }
 },
 "nbformat": 4,
 "nbformat_minor": 5
}
